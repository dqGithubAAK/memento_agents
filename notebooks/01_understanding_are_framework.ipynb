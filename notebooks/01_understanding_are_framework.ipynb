{
 "cells": [
  {
   "cell_type": "markdown",
   "id": "6979b0b1",
   "metadata": {},
   "source": [
    "# Understanding the ARE Framework\n",
    "\n",
    "This notebook walks through the core concepts of Meta's Agents Research Environments (ARE) framework.\n",
    "\n",
    "## What You'll Learn\n",
    "1. How to load and inspect scenarios\n",
    "2. Understanding apps and tools\n",
    "3. Examining the event flow and DAG structure\n",
    "4. Running scenarios in oracle mode (ground truth)\n",
    "5. Analyzing agent execution traces"
   ]
  },
  {
   "cell_type": "code",
   "execution_count": null,
   "id": "51638068",
   "metadata": {},
   "outputs": [],
   "source": [
    "# Install ARE if not already installed\n",
    "# !pip install meta-agents-research-environments"
   ]
  },
  {
   "cell_type": "code",
   "execution_count": null,
   "id": "1a0542c7",
   "metadata": {},
   "outputs": [],
   "source": [
    "import sys\n",
    "sys.path.insert(0, '../meta-agents-research-environments')\n",
    "\n",
    "from are.simulation.environment import Environment, EnvironmentConfig\n",
    "from are.simulation.scenarios.registration import get_scenario_by_id\n",
    "from are.simulation.types import EventType\n",
    "import json"
   ]
  },
  {
   "cell_type": "markdown",
   "id": "11a60892",
   "metadata": {},
   "source": [
    "## 1. Loading and Inspecting a Scenario\n",
    "\n",
    "Let's start by loading a simple scenario to understand its structure."
   ]
  },
  {
   "cell_type": "code",
   "execution_count": null,
   "id": "ccd0cb8d",
   "metadata": {},
   "outputs": [],
   "source": [
    "# Load a simple scenario\n",
    "scenario = get_scenario_by_id(\"scenario_find_image_file\")\n",
    "\n",
    "print(f\"Scenario ID: {scenario.scenario_id}\")\n",
    "print(f\"Status: {scenario.status}\")\n",
    "print(f\"Benchmark Ready: {scenario.is_benchmark_ready}\")\n",
    "print(f\"Duration: {scenario.duration} seconds\")\n",
    "print(f\"Time Increment: {scenario.time_increment_in_seconds} second(s)\")"
   ]
  },
  {
   "cell_type": "code",
   "execution_count": null,
   "id": "205bdd0e",
   "metadata": {},
   "outputs": [],
   "source": [
    "# Initialize the scenario (this sets up apps and events)\n",
    "scenario.initialize()\n",
    "\n",
    "print(f\"\\nInitialized: {scenario._initialized}\")\n",
    "print(f\"Number of Apps: {len(scenario.apps) if scenario.apps else 0}\")\n",
    "print(f\"Number of Events: {len(scenario.events)}\")"
   ]
  },
  {
   "cell_type": "markdown",
   "id": "b01e0029",
   "metadata": {},
   "source": [
    "## 2. Understanding Apps and Tools\n",
    "\n",
    "Apps are interactive applications that provide APIs for agents to interact with."
   ]
  },
  {
   "cell_type": "code",
   "execution_count": null,
   "id": "02efd500",
   "metadata": {},
   "outputs": [],
   "source": [
    "# List all apps in the scenario\n",
    "print(\"Available Apps:\")\n",
    "print(\"=\"*50)\n",
    "for app in scenario.apps or []:\n",
    "    print(f\"\\n{app.name} ({app.__class__.__name__})\")\n",
    "    print(f\"  Description: {app.__doc__[:100] if app.__doc__ else 'No description'}...\")"
   ]
  },
  {
   "cell_type": "code",
   "execution_count": null,
   "id": "ce05957e",
   "metadata": {},
   "outputs": [],
   "source": [
    "# Get all tools (functions) available to the agent\n",
    "tools = scenario.get_tools()\n",
    "\n",
    "print(f\"\\nTotal Tools Available: {len(tools)}\")\n",
    "print(\"\\nTool Details:\")\n",
    "print(\"=\"*80)\n",
    "\n",
    "for i, tool in enumerate(tools[:5], 1):  # Show first 5 tools\n",
    "    print(f\"\\n{i}. {tool.name}\")\n",
    "    print(f\"   Description: {tool.function_description[:100]}...\")\n",
    "    print(f\"   Parameters:\")\n",
    "    schema = tool.parameters_schema\n",
    "    if 'properties' in schema:\n",
    "        for param_name, param_info in list(schema['properties'].items())[:3]:\n",
    "            print(f\"      - {param_name}: {param_info.get('type', 'unknown')}\")"
   ]
  },
  {
   "cell_type": "markdown",
   "id": "101e7d95",
   "metadata": {},
   "source": [
    "## 3. Examining Events and Event Flow\n",
    "\n",
    "Events form a DAG (Directed Acyclic Graph) showing what should happen and when."
   ]
  },
  {
   "cell_type": "code",
   "execution_count": null,
   "id": "882198cc",
   "metadata": {},
   "outputs": [],
   "source": [
    "# Analyze event structure\n",
    "print(f\"Total Events: {len(scenario.events)}\\n\")\n",
    "\n",
    "# Group events by type\n",
    "from collections import defaultdict\n",
    "events_by_type = defaultdict(list)\n",
    "\n",
    "for event in scenario.events:\n",
    "    events_by_type[type(event).__name__].append(event)\n",
    "\n",
    "print(\"Events by Type:\")\n",
    "for event_type, events in events_by_type.items():\n",
    "    print(f\"  {event_type}: {len(events)}\")"
   ]
  },
  {
   "cell_type": "code",
   "execution_count": null,
   "id": "4e164178",
   "metadata": {},
   "outputs": [],
   "source": [
    "# Examine event dependencies (DAG structure)\n",
    "print(\"\\nEvent Flow (DAG Structure):\")\n",
    "print(\"=\"*80)\n",
    "\n",
    "for event in scenario.events[:10]:  # First 10 events\n",
    "    print(f\"\\n{event.event_id}\")\n",
    "    print(f\"  Type: {type(event).__name__}\")\n",
    "    print(f\"  Relative Time: {event.event_relative_time}s\")\n",
    "    print(f\"  Dependencies: {[e.event_id for e in event.dependencies]}\")\n",
    "    print(f\"  Successors: {[e.event_id for e in event.successors]}\")\n",
    "    \n",
    "    # For oracle events, show what action should be taken\n",
    "    if hasattr(event, 'action_desc') and event.action_desc:\n",
    "        print(f\"  Action: {event.action_desc.app}.{event.action_desc.function}\")\n",
    "        if event.action_desc.args:\n",
    "            print(f\"  Args: {[(arg['name'], arg['value'][:50] if isinstance(arg['value'], str) else arg['value']) for arg in event.action_desc.args[:2]]}\")"
   ]
  },
  {
   "cell_type": "markdown",
   "id": "f8b89080",
   "metadata": {},
   "source": [
    "## 4. Running a Scenario in Oracle Mode\n",
    "\n",
    "Oracle mode runs the scenario with pre-defined agent actions (ground truth)."
   ]
  },
  {
   "cell_type": "code",
   "execution_count": null,
   "id": "ce6b360b",
   "metadata": {},
   "outputs": [],
   "source": [
    "# Create environment in oracle mode\n",
    "env = Environment(\n",
    "    config=EnvironmentConfig(\n",
    "        start_time=0,\n",
    "        duration=scenario.duration,\n",
    "        time_increment_in_seconds=scenario.time_increment_in_seconds,\n",
    "        oracle_mode=True,  # Run with ground truth actions\n",
    "        queue_based_loop=True,  # Jump to events (faster)\n",
    "        exit_when_no_events=True,  # Exit when done\n",
    "        verbose=False  # Reduce output\n",
    "    )\n",
    ")\n",
    "\n",
    "# Run the scenario\n",
    "print(\"Running scenario in oracle mode...\")\n",
    "env.run(scenario, wait_for_end=True, schedule_events=True)\n",
    "print(f\"\\nEnvironment final state: {env.state}\")"
   ]
  },
  {
   "cell_type": "markdown",
   "id": "9d51281c",
   "metadata": {},
   "source": [
    "## 5. Analyzing Execution Traces\n",
    "\n",
    "After execution, we can examine what happened at each step."
   ]
  },
  {
   "cell_type": "code",
   "execution_count": null,
   "id": "3a986f1f",
   "metadata": {},
   "outputs": [],
   "source": [
    "# Get event log (completed events)\n",
    "completed_events = env.event_log.list_view()\n",
    "\n",
    "print(f\"Total Completed Events: {len(completed_events)}\\n\")\n",
    "\n",
    "# Analyze by event type\n",
    "agent_events = [e for e in completed_events if e.event_type == EventType.AGENT]\n",
    "env_events = [e for e in completed_events if e.event_type == EventType.ENV]\n",
    "user_events = [e for e in completed_events if e.event_type == EventType.USER]\n",
    "\n",
    "print(f\"Agent Actions: {len(agent_events)}\")\n",
    "print(f\"Environment Events: {len(env_events)}\")\n",
    "print(f\"User Events: {len(user_events)}\")"
   ]
  },
  {
   "cell_type": "code",
   "execution_count": null,
   "id": "8b71a2e2",
   "metadata": {},
   "outputs": [],
   "source": [
    "# Show detailed trace of agent actions\n",
    "print(\"\\nAgent Action Trace:\")\n",
    "print(\"=\"*80)\n",
    "\n",
    "for i, event in enumerate(agent_events[:10], 1):\n",
    "    print(f\"\\n{i}. Time: {event.event_time:.1f}s\")\n",
    "    \n",
    "    if event.action:\n",
    "        print(f\"   Tool: {event.action.class_name}.{event.action.function_name}\")\n",
    "        print(f\"   Args: {json.dumps(event.action.args, indent=6)[:200]}...\")\n",
    "        print(f\"   Result: {str(event.metadata.return_value)[:100]}...\")\n",
    "        \n",
    "        if event.metadata.exception:\n",
    "            print(f\"   Exception: {event.metadata.exception}\")"
   ]
  },
  {
   "cell_type": "code",
   "execution_count": null,
   "id": "613522d2",
   "metadata": {},
   "outputs": [],
   "source": [
    "# Visualize tool usage frequency\n",
    "from collections import Counter\n",
    "\n",
    "tool_usage = Counter()\n",
    "for event in agent_events:\n",
    "    if event.action:\n",
    "        tool_name = f\"{event.action.class_name}.{event.action.function_name}\"\n",
    "        tool_usage[tool_name] += 1\n",
    "\n",
    "print(\"\\nTool Usage Frequency:\")\n",
    "print(\"=\"*80)\n",
    "for tool, count in tool_usage.most_common(10):\n",
    "    print(f\"{tool}: {count} times\")"
   ]
  },
  {
   "cell_type": "code",
   "execution_count": null,
   "id": "4385f45d",
   "metadata": {},
   "outputs": [],
   "source": [
    "# Get environment state at end\n",
    "final_state = env.get_state()\n",
    "\n",
    "print(\"\\nFinal Environment State:\")\n",
    "print(\"=\"*80)\n",
    "print(f\"Current Time: {final_state['current_time']}s\")\n",
    "print(f\"Total Events Processed: {len(final_state['event_log']['past_events'])}\")\n",
    "print(f\"Remaining Events: {len(final_state['event_queue']['events'])}\")\n",
    "\n",
    "print(\"\\nApp States:\")\n",
    "for app_state in final_state['apps'][:3]:  # Show first 3 apps\n",
    "    print(f\"\\n{app_state['app_name']}:\")\n",
    "    # Show some state details (excluding large data)\n",
    "    for key, value in list(app_state.items())[:5]:\n",
    "        if key != 'app_name':\n",
    "            print(f\"  {key}: {str(value)[:100]}...\")"
   ]
  },
  {
   "cell_type": "markdown",
   "id": "526e6502",
   "metadata": {},
   "source": [
    "## Key Takeaways\n",
    "\n",
    "1. **Scenarios** encapsulate tasks, apps, events, and validation logic\n",
    "2. **Apps** provide tools (APIs) for agents to interact with\n",
    "3. **Events** form a DAG showing what should happen and when\n",
    "4. **Oracle mode** shows ground truth behavior for validation\n",
    "5. **Event logs** capture everything that happened during execution\n",
    "\n",
    "## Next Steps\n",
    "\n",
    "- Explore `02_running_custom_agent.ipynb` to learn how to implement your own agent\n",
    "- Check `03_agent_with_memory.ipynb` for advanced memory-augmented agents\n",
    "- Review the CUSTOM_AGENT_GUIDE.md for comprehensive documentation"
   ]
  }
 ],
 "metadata": {
  "language_info": {
   "name": "python"
  }
 },
 "nbformat": 4,
 "nbformat_minor": 5
}
